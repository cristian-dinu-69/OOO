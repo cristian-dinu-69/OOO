{
  "nbformat": 4,
  "nbformat_minor": 0,
  "metadata": {
    "colab": {
      "name": "intro.ipynb",
      "provenance": [],
      "authorship_tag": "ABX9TyN85bwftvSAneZYDGbuSdFw",
      "include_colab_link": true
    },
    "kernelspec": {
      "name": "python3",
      "display_name": "Python 3"
    },
    "language_info": {
      "name": "python"
    }
  },
  "cells": [
    {
      "cell_type": "markdown",
      "metadata": {
        "id": "view-in-github",
        "colab_type": "text"
      },
      "source": [
        "<a href=\"https://colab.research.google.com/github/cristian-dinu-69/OOO/blob/main/intro.ipynb\" target=\"_parent\"><img src=\"https://colab.research.google.com/assets/colab-badge.svg\" alt=\"Open In Colab\"/></a>"
      ]
    },
    {
      "cell_type": "code",
      "execution_count": 1,
      "metadata": {
        "colab": {
          "base_uri": "https://localhost:8080/"
        },
        "id": "aITkFUmJDmAF",
        "outputId": "f17f1f11-7980-4e9e-89fa-4cdcd731924d"
      },
      "outputs": [
        {
          "output_type": "stream",
          "name": "stdout",
          "text": [
            "Salut Cristi\n"
          ]
        }
      ],
      "source": [
        "print(\"Salut Cristi\")"
      ]
    },
    {
      "cell_type": "code",
      "source": [
        "print(\"Salut Cristi\")"
      ],
      "metadata": {
        "id": "orgv5O6eFIyc",
        "outputId": "ba17a8c8-6e29-4e41-eaab-e6be5929f0d8",
        "colab": {
          "base_uri": "https://localhost:8080/"
        }
      },
      "execution_count": 2,
      "outputs": [
        {
          "output_type": "stream",
          "name": "stdout",
          "text": [
            "Salut Cristi\n"
          ]
        }
      ]
    }
  ]
}